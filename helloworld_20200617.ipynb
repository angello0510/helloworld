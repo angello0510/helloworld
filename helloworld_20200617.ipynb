{
  "nbformat": 4,
  "nbformat_minor": 0,
  "metadata": {
    "colab": {
      "name": "Untitled0.ipynb",
      "provenance": [],
      "authorship_tag": "ABX9TyOzR8a0tjnzo3gJMyIfeqU3"
    },
    "kernelspec": {
      "name": "python3",
      "display_name": "Python 3"
    }
  },
  "cells": [
    {
      "cell_type": "code",
      "metadata": {
        "id": "g39o3qulKMz7"
      },
      "source": [
        "print(\"hello, world!\")\n",
        "print(\"20200617\")"
      ],
      "execution_count": null,
      "outputs": []
    }
  ]
}